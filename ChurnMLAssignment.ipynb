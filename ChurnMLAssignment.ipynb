{
  "nbformat": 4,
  "nbformat_minor": 0,
  "metadata": {
    "colab": {
      "provenance": [],
      "collapsed_sections": []
    },
    "kernelspec": {
      "name": "python3",
      "display_name": "Python 3"
    },
    "language_info": {
      "name": "python"
    }
  },
  "cells": [
    {
      "cell_type": "code",
      "execution_count": 7,
      "metadata": {
        "colab": {
          "base_uri": "https://localhost:8080/"
        },
        "id": "PdpHO_4UTe2n",
        "outputId": "4b5e5760-3332-4d72-ccfc-da16a3f94592"
      },
      "outputs": [
        {
          "output_type": "stream",
          "name": "stdout",
          "text": [
            "Mounted at /content/gdrive\n"
          ]
        }
      ],
      "source": [
        "from google import colab\n",
        "colab.drive.mount('/content/gdrive')\n",
        "path='/content/gdrive/My Drive'"
      ]
    },
    {
      "cell_type": "code",
      "source": [
        "import pandas as pd\n",
        "ch=pd.read_csv(path+'/churn.csv')\n",
        "ch"
      ],
      "metadata": {
        "colab": {
          "base_uri": "https://localhost:8080/",
          "height": 679
        },
        "id": "UISvz2-GTgXA",
        "outputId": "90c8b8fc-be49-4d2a-ce07-eb547ee6dd26"
      },
      "execution_count": 8,
      "outputs": [
        {
          "output_type": "execute_result",
          "data": {
            "text/plain": [
              "     Unnamed: 0  customerID tenure        Contract PaperlessBilling  \\\n",
              "0             1  8260-NGFNY    One  Month-to-month               No   \n",
              "1             2  2359-QWQUL     39        One year              Yes   \n",
              "2             3  6598/RFFVI      2        One year               No   \n",
              "3             4  IXSTS-8780      6  Month-to-month              Yes   \n",
              "4             5  2674/MIAHT   Four  Month-to-month              Yes   \n",
              "..          ...         ...    ...             ...              ...   \n",
              "252         253  9318-NKNFC    One  Month-to-month              Yes   \n",
              "253         254  9067-SQTNS     44        One year               No   \n",
              "254         255  9067-SQTNS     44        One year               No   \n",
              "255         256  9067-SQTNS     44        One year               No   \n",
              "256         257  9067-SQTNS     44        One year               No   \n",
              "\n",
              "                 PaymentMethod  MonthlyCharges  TotalCharges  gender  \\\n",
              "0                 Mailed check           25.20         25.20  Female   \n",
              "1      Credit card (automatic)          104.70       4134.85  Female   \n",
              "2      Credit card (automatic)           19.30         28.30    Male   \n",
              "3             Electronic check           90.10        521.30  Female   \n",
              "4                 Mailed check           80.30        324.20  Female   \n",
              "..                         ...             ...           ...     ...   \n",
              "252               Mailed check           18.85         18.85    Male   \n",
              "253  Bank transfer (automatic)           20.60        926.00    Male   \n",
              "254  Bank transfer (automatic)           20.60        926.00    Male   \n",
              "255  Bank transfer (automatic)           20.60        926.00    Male   \n",
              "256  Bank transfer (automatic)           20.60        926.00    Male   \n",
              "\n",
              "     SeniorCitizen  ... PhoneService     MultipleLines InternetService  \\\n",
              "0              0.0  ...           No  No phone service             DSL   \n",
              "1              0.0  ...          Yes                No     Fiber optic   \n",
              "2              0.0  ...          Yes                No              No   \n",
              "3              0.0  ...          Yes               Yes     Fiber optic   \n",
              "4              0.0  ...          Yes               Yes     Fiber optic   \n",
              "..             ...  ...          ...               ...             ...   \n",
              "252            0.0  ...          Yes                No              No   \n",
              "253            0.0  ...          Yes                No              No   \n",
              "254            0.0  ...          Yes                No              No   \n",
              "255            0.0  ...          Yes                No              No   \n",
              "256            0.0  ...          Yes                No              No   \n",
              "\n",
              "          OnlineSecurity         OnlineBackup     DeviceProtection  \\\n",
              "0                     No                   No                   No   \n",
              "1                    Yes                   No                  Yes   \n",
              "2    No internet service  No internet service  No internet service   \n",
              "3                     No                  Yes                   No   \n",
              "4                     No                  Yes                   No   \n",
              "..                   ...                  ...                  ...   \n",
              "252  No internet service  No internet service  No internet service   \n",
              "253                  Yes                  Yes  No internet service   \n",
              "254                  Yes                  Yes  No internet service   \n",
              "255                  Yes                  Yes  No internet service   \n",
              "256                  Yes                  Yes  No internet service   \n",
              "\n",
              "             TechSupport          StreamingTV      StreamingMovies Churn  \n",
              "0                     No                   No                   No   Yes  \n",
              "1                    Yes                  Yes                  Yes   Yes  \n",
              "2    No internet service  No internet service  No internet service   Yes  \n",
              "3                     No                  Yes                   No   Yes  \n",
              "4                     No                   No                   No    No  \n",
              "..                   ...                  ...                  ...   ...  \n",
              "252  No internet service  No internet service  No internet service   Yes  \n",
              "253  No internet service                  Yes  No internet service    No  \n",
              "254  No internet service                  Yes  No internet service    No  \n",
              "255  No internet service                  Yes  No internet service    No  \n",
              "256  No internet service                  Yes  No internet service    No  \n",
              "\n",
              "[257 rows x 22 columns]"
            ],
            "text/html": [
              "\n",
              "  <div id=\"df-1de04abe-f8a5-4b8b-8698-57349b861226\">\n",
              "    <div class=\"colab-df-container\">\n",
              "      <div>\n",
              "<style scoped>\n",
              "    .dataframe tbody tr th:only-of-type {\n",
              "        vertical-align: middle;\n",
              "    }\n",
              "\n",
              "    .dataframe tbody tr th {\n",
              "        vertical-align: top;\n",
              "    }\n",
              "\n",
              "    .dataframe thead th {\n",
              "        text-align: right;\n",
              "    }\n",
              "</style>\n",
              "<table border=\"1\" class=\"dataframe\">\n",
              "  <thead>\n",
              "    <tr style=\"text-align: right;\">\n",
              "      <th></th>\n",
              "      <th>Unnamed: 0</th>\n",
              "      <th>customerID</th>\n",
              "      <th>tenure</th>\n",
              "      <th>Contract</th>\n",
              "      <th>PaperlessBilling</th>\n",
              "      <th>PaymentMethod</th>\n",
              "      <th>MonthlyCharges</th>\n",
              "      <th>TotalCharges</th>\n",
              "      <th>gender</th>\n",
              "      <th>SeniorCitizen</th>\n",
              "      <th>...</th>\n",
              "      <th>PhoneService</th>\n",
              "      <th>MultipleLines</th>\n",
              "      <th>InternetService</th>\n",
              "      <th>OnlineSecurity</th>\n",
              "      <th>OnlineBackup</th>\n",
              "      <th>DeviceProtection</th>\n",
              "      <th>TechSupport</th>\n",
              "      <th>StreamingTV</th>\n",
              "      <th>StreamingMovies</th>\n",
              "      <th>Churn</th>\n",
              "    </tr>\n",
              "  </thead>\n",
              "  <tbody>\n",
              "    <tr>\n",
              "      <th>0</th>\n",
              "      <td>1</td>\n",
              "      <td>8260-NGFNY</td>\n",
              "      <td>One</td>\n",
              "      <td>Month-to-month</td>\n",
              "      <td>No</td>\n",
              "      <td>Mailed check</td>\n",
              "      <td>25.20</td>\n",
              "      <td>25.20</td>\n",
              "      <td>Female</td>\n",
              "      <td>0.0</td>\n",
              "      <td>...</td>\n",
              "      <td>No</td>\n",
              "      <td>No phone service</td>\n",
              "      <td>DSL</td>\n",
              "      <td>No</td>\n",
              "      <td>No</td>\n",
              "      <td>No</td>\n",
              "      <td>No</td>\n",
              "      <td>No</td>\n",
              "      <td>No</td>\n",
              "      <td>Yes</td>\n",
              "    </tr>\n",
              "    <tr>\n",
              "      <th>1</th>\n",
              "      <td>2</td>\n",
              "      <td>2359-QWQUL</td>\n",
              "      <td>39</td>\n",
              "      <td>One year</td>\n",
              "      <td>Yes</td>\n",
              "      <td>Credit card (automatic)</td>\n",
              "      <td>104.70</td>\n",
              "      <td>4134.85</td>\n",
              "      <td>Female</td>\n",
              "      <td>0.0</td>\n",
              "      <td>...</td>\n",
              "      <td>Yes</td>\n",
              "      <td>No</td>\n",
              "      <td>Fiber optic</td>\n",
              "      <td>Yes</td>\n",
              "      <td>No</td>\n",
              "      <td>Yes</td>\n",
              "      <td>Yes</td>\n",
              "      <td>Yes</td>\n",
              "      <td>Yes</td>\n",
              "      <td>Yes</td>\n",
              "    </tr>\n",
              "    <tr>\n",
              "      <th>2</th>\n",
              "      <td>3</td>\n",
              "      <td>6598/RFFVI</td>\n",
              "      <td>2</td>\n",
              "      <td>One year</td>\n",
              "      <td>No</td>\n",
              "      <td>Credit card (automatic)</td>\n",
              "      <td>19.30</td>\n",
              "      <td>28.30</td>\n",
              "      <td>Male</td>\n",
              "      <td>0.0</td>\n",
              "      <td>...</td>\n",
              "      <td>Yes</td>\n",
              "      <td>No</td>\n",
              "      <td>No</td>\n",
              "      <td>No internet service</td>\n",
              "      <td>No internet service</td>\n",
              "      <td>No internet service</td>\n",
              "      <td>No internet service</td>\n",
              "      <td>No internet service</td>\n",
              "      <td>No internet service</td>\n",
              "      <td>Yes</td>\n",
              "    </tr>\n",
              "    <tr>\n",
              "      <th>3</th>\n",
              "      <td>4</td>\n",
              "      <td>IXSTS-8780</td>\n",
              "      <td>6</td>\n",
              "      <td>Month-to-month</td>\n",
              "      <td>Yes</td>\n",
              "      <td>Electronic check</td>\n",
              "      <td>90.10</td>\n",
              "      <td>521.30</td>\n",
              "      <td>Female</td>\n",
              "      <td>0.0</td>\n",
              "      <td>...</td>\n",
              "      <td>Yes</td>\n",
              "      <td>Yes</td>\n",
              "      <td>Fiber optic</td>\n",
              "      <td>No</td>\n",
              "      <td>Yes</td>\n",
              "      <td>No</td>\n",
              "      <td>No</td>\n",
              "      <td>Yes</td>\n",
              "      <td>No</td>\n",
              "      <td>Yes</td>\n",
              "    </tr>\n",
              "    <tr>\n",
              "      <th>4</th>\n",
              "      <td>5</td>\n",
              "      <td>2674/MIAHT</td>\n",
              "      <td>Four</td>\n",
              "      <td>Month-to-month</td>\n",
              "      <td>Yes</td>\n",
              "      <td>Mailed check</td>\n",
              "      <td>80.30</td>\n",
              "      <td>324.20</td>\n",
              "      <td>Female</td>\n",
              "      <td>0.0</td>\n",
              "      <td>...</td>\n",
              "      <td>Yes</td>\n",
              "      <td>Yes</td>\n",
              "      <td>Fiber optic</td>\n",
              "      <td>No</td>\n",
              "      <td>Yes</td>\n",
              "      <td>No</td>\n",
              "      <td>No</td>\n",
              "      <td>No</td>\n",
              "      <td>No</td>\n",
              "      <td>No</td>\n",
              "    </tr>\n",
              "    <tr>\n",
              "      <th>...</th>\n",
              "      <td>...</td>\n",
              "      <td>...</td>\n",
              "      <td>...</td>\n",
              "      <td>...</td>\n",
              "      <td>...</td>\n",
              "      <td>...</td>\n",
              "      <td>...</td>\n",
              "      <td>...</td>\n",
              "      <td>...</td>\n",
              "      <td>...</td>\n",
              "      <td>...</td>\n",
              "      <td>...</td>\n",
              "      <td>...</td>\n",
              "      <td>...</td>\n",
              "      <td>...</td>\n",
              "      <td>...</td>\n",
              "      <td>...</td>\n",
              "      <td>...</td>\n",
              "      <td>...</td>\n",
              "      <td>...</td>\n",
              "      <td>...</td>\n",
              "    </tr>\n",
              "    <tr>\n",
              "      <th>252</th>\n",
              "      <td>253</td>\n",
              "      <td>9318-NKNFC</td>\n",
              "      <td>One</td>\n",
              "      <td>Month-to-month</td>\n",
              "      <td>Yes</td>\n",
              "      <td>Mailed check</td>\n",
              "      <td>18.85</td>\n",
              "      <td>18.85</td>\n",
              "      <td>Male</td>\n",
              "      <td>0.0</td>\n",
              "      <td>...</td>\n",
              "      <td>Yes</td>\n",
              "      <td>No</td>\n",
              "      <td>No</td>\n",
              "      <td>No internet service</td>\n",
              "      <td>No internet service</td>\n",
              "      <td>No internet service</td>\n",
              "      <td>No internet service</td>\n",
              "      <td>No internet service</td>\n",
              "      <td>No internet service</td>\n",
              "      <td>Yes</td>\n",
              "    </tr>\n",
              "    <tr>\n",
              "      <th>253</th>\n",
              "      <td>254</td>\n",
              "      <td>9067-SQTNS</td>\n",
              "      <td>44</td>\n",
              "      <td>One year</td>\n",
              "      <td>No</td>\n",
              "      <td>Bank transfer (automatic)</td>\n",
              "      <td>20.60</td>\n",
              "      <td>926.00</td>\n",
              "      <td>Male</td>\n",
              "      <td>0.0</td>\n",
              "      <td>...</td>\n",
              "      <td>Yes</td>\n",
              "      <td>No</td>\n",
              "      <td>No</td>\n",
              "      <td>Yes</td>\n",
              "      <td>Yes</td>\n",
              "      <td>No internet service</td>\n",
              "      <td>No internet service</td>\n",
              "      <td>Yes</td>\n",
              "      <td>No internet service</td>\n",
              "      <td>No</td>\n",
              "    </tr>\n",
              "    <tr>\n",
              "      <th>254</th>\n",
              "      <td>255</td>\n",
              "      <td>9067-SQTNS</td>\n",
              "      <td>44</td>\n",
              "      <td>One year</td>\n",
              "      <td>No</td>\n",
              "      <td>Bank transfer (automatic)</td>\n",
              "      <td>20.60</td>\n",
              "      <td>926.00</td>\n",
              "      <td>Male</td>\n",
              "      <td>0.0</td>\n",
              "      <td>...</td>\n",
              "      <td>Yes</td>\n",
              "      <td>No</td>\n",
              "      <td>No</td>\n",
              "      <td>Yes</td>\n",
              "      <td>Yes</td>\n",
              "      <td>No internet service</td>\n",
              "      <td>No internet service</td>\n",
              "      <td>Yes</td>\n",
              "      <td>No internet service</td>\n",
              "      <td>No</td>\n",
              "    </tr>\n",
              "    <tr>\n",
              "      <th>255</th>\n",
              "      <td>256</td>\n",
              "      <td>9067-SQTNS</td>\n",
              "      <td>44</td>\n",
              "      <td>One year</td>\n",
              "      <td>No</td>\n",
              "      <td>Bank transfer (automatic)</td>\n",
              "      <td>20.60</td>\n",
              "      <td>926.00</td>\n",
              "      <td>Male</td>\n",
              "      <td>0.0</td>\n",
              "      <td>...</td>\n",
              "      <td>Yes</td>\n",
              "      <td>No</td>\n",
              "      <td>No</td>\n",
              "      <td>Yes</td>\n",
              "      <td>Yes</td>\n",
              "      <td>No internet service</td>\n",
              "      <td>No internet service</td>\n",
              "      <td>Yes</td>\n",
              "      <td>No internet service</td>\n",
              "      <td>No</td>\n",
              "    </tr>\n",
              "    <tr>\n",
              "      <th>256</th>\n",
              "      <td>257</td>\n",
              "      <td>9067-SQTNS</td>\n",
              "      <td>44</td>\n",
              "      <td>One year</td>\n",
              "      <td>No</td>\n",
              "      <td>Bank transfer (automatic)</td>\n",
              "      <td>20.60</td>\n",
              "      <td>926.00</td>\n",
              "      <td>Male</td>\n",
              "      <td>0.0</td>\n",
              "      <td>...</td>\n",
              "      <td>Yes</td>\n",
              "      <td>No</td>\n",
              "      <td>No</td>\n",
              "      <td>Yes</td>\n",
              "      <td>Yes</td>\n",
              "      <td>No internet service</td>\n",
              "      <td>No internet service</td>\n",
              "      <td>Yes</td>\n",
              "      <td>No internet service</td>\n",
              "      <td>No</td>\n",
              "    </tr>\n",
              "  </tbody>\n",
              "</table>\n",
              "<p>257 rows × 22 columns</p>\n",
              "</div>\n",
              "      <button class=\"colab-df-convert\" onclick=\"convertToInteractive('df-1de04abe-f8a5-4b8b-8698-57349b861226')\"\n",
              "              title=\"Convert this dataframe to an interactive table.\"\n",
              "              style=\"display:none;\">\n",
              "        \n",
              "  <svg xmlns=\"http://www.w3.org/2000/svg\" height=\"24px\"viewBox=\"0 0 24 24\"\n",
              "       width=\"24px\">\n",
              "    <path d=\"M0 0h24v24H0V0z\" fill=\"none\"/>\n",
              "    <path d=\"M18.56 5.44l.94 2.06.94-2.06 2.06-.94-2.06-.94-.94-2.06-.94 2.06-2.06.94zm-11 1L8.5 8.5l.94-2.06 2.06-.94-2.06-.94L8.5 2.5l-.94 2.06-2.06.94zm10 10l.94 2.06.94-2.06 2.06-.94-2.06-.94-.94-2.06-.94 2.06-2.06.94z\"/><path d=\"M17.41 7.96l-1.37-1.37c-.4-.4-.92-.59-1.43-.59-.52 0-1.04.2-1.43.59L10.3 9.45l-7.72 7.72c-.78.78-.78 2.05 0 2.83L4 21.41c.39.39.9.59 1.41.59.51 0 1.02-.2 1.41-.59l7.78-7.78 2.81-2.81c.8-.78.8-2.07 0-2.86zM5.41 20L4 18.59l7.72-7.72 1.47 1.35L5.41 20z\"/>\n",
              "  </svg>\n",
              "      </button>\n",
              "      \n",
              "  <style>\n",
              "    .colab-df-container {\n",
              "      display:flex;\n",
              "      flex-wrap:wrap;\n",
              "      gap: 12px;\n",
              "    }\n",
              "\n",
              "    .colab-df-convert {\n",
              "      background-color: #E8F0FE;\n",
              "      border: none;\n",
              "      border-radius: 50%;\n",
              "      cursor: pointer;\n",
              "      display: none;\n",
              "      fill: #1967D2;\n",
              "      height: 32px;\n",
              "      padding: 0 0 0 0;\n",
              "      width: 32px;\n",
              "    }\n",
              "\n",
              "    .colab-df-convert:hover {\n",
              "      background-color: #E2EBFA;\n",
              "      box-shadow: 0px 1px 2px rgba(60, 64, 67, 0.3), 0px 1px 3px 1px rgba(60, 64, 67, 0.15);\n",
              "      fill: #174EA6;\n",
              "    }\n",
              "\n",
              "    [theme=dark] .colab-df-convert {\n",
              "      background-color: #3B4455;\n",
              "      fill: #D2E3FC;\n",
              "    }\n",
              "\n",
              "    [theme=dark] .colab-df-convert:hover {\n",
              "      background-color: #434B5C;\n",
              "      box-shadow: 0px 1px 3px 1px rgba(0, 0, 0, 0.15);\n",
              "      filter: drop-shadow(0px 1px 2px rgba(0, 0, 0, 0.3));\n",
              "      fill: #FFFFFF;\n",
              "    }\n",
              "  </style>\n",
              "\n",
              "      <script>\n",
              "        const buttonEl =\n",
              "          document.querySelector('#df-1de04abe-f8a5-4b8b-8698-57349b861226 button.colab-df-convert');\n",
              "        buttonEl.style.display =\n",
              "          google.colab.kernel.accessAllowed ? 'block' : 'none';\n",
              "\n",
              "        async function convertToInteractive(key) {\n",
              "          const element = document.querySelector('#df-1de04abe-f8a5-4b8b-8698-57349b861226');\n",
              "          const dataTable =\n",
              "            await google.colab.kernel.invokeFunction('convertToInteractive',\n",
              "                                                     [key], {});\n",
              "          if (!dataTable) return;\n",
              "\n",
              "          const docLinkHtml = 'Like what you see? Visit the ' +\n",
              "            '<a target=\"_blank\" href=https://colab.research.google.com/notebooks/data_table.ipynb>data table notebook</a>'\n",
              "            + ' to learn more about interactive tables.';\n",
              "          element.innerHTML = '';\n",
              "          dataTable['output_type'] = 'display_data';\n",
              "          await google.colab.output.renderOutput(dataTable, element);\n",
              "          const docLink = document.createElement('div');\n",
              "          docLink.innerHTML = docLinkHtml;\n",
              "          element.appendChild(docLink);\n",
              "        }\n",
              "      </script>\n",
              "    </div>\n",
              "  </div>\n",
              "  "
            ]
          },
          "metadata": {},
          "execution_count": 8
        }
      ]
    },
    {
      "cell_type": "code",
      "source": [
        "(ch.isna().sum()/len(ch)*100).round(2).sort_values(ascending=False)"
      ],
      "metadata": {
        "colab": {
          "base_uri": "https://localhost:8080/"
        },
        "id": "GwA-BvdeVO-U",
        "outputId": "6569b976-c74b-49a0-e9c1-2ec11243c932"
      },
      "execution_count": 9,
      "outputs": [
        {
          "output_type": "execute_result",
          "data": {
            "text/plain": [
              "TotalCharges        5.84\n",
              "MonthlyCharges      3.89\n",
              "SeniorCitizen       1.95\n",
              "Unnamed: 0          0.00\n",
              "MultipleLines       0.00\n",
              "StreamingMovies     0.00\n",
              "StreamingTV         0.00\n",
              "TechSupport         0.00\n",
              "DeviceProtection    0.00\n",
              "OnlineBackup        0.00\n",
              "OnlineSecurity      0.00\n",
              "InternetService     0.00\n",
              "Dependents          0.00\n",
              "PhoneService        0.00\n",
              "customerID          0.00\n",
              "Partner             0.00\n",
              "gender              0.00\n",
              "PaymentMethod       0.00\n",
              "PaperlessBilling    0.00\n",
              "Contract            0.00\n",
              "tenure              0.00\n",
              "Churn               0.00\n",
              "dtype: float64"
            ]
          },
          "metadata": {},
          "execution_count": 9
        }
      ]
    },
    {
      "cell_type": "code",
      "source": [
        "ch.nunique()"
      ],
      "metadata": {
        "colab": {
          "base_uri": "https://localhost:8080/"
        },
        "id": "7eQO_VL2Vr1c",
        "outputId": "e452f30c-bd30-443e-dd8f-865d6c95f0ba"
      },
      "execution_count": 10,
      "outputs": [
        {
          "output_type": "execute_result",
          "data": {
            "text/plain": [
              "Unnamed: 0          257\n",
              "customerID          250\n",
              "tenure               71\n",
              "Contract              3\n",
              "PaperlessBilling      2\n",
              "PaymentMethod         4\n",
              "MonthlyCharges      214\n",
              "TotalCharges        234\n",
              "gender                2\n",
              "SeniorCitizen         2\n",
              "Partner               2\n",
              "Dependents            3\n",
              "PhoneService          2\n",
              "MultipleLines         3\n",
              "InternetService       3\n",
              "OnlineSecurity        3\n",
              "OnlineBackup          3\n",
              "DeviceProtection      3\n",
              "TechSupport           3\n",
              "StreamingTV           3\n",
              "StreamingMovies       3\n",
              "Churn                 2\n",
              "dtype: int64"
            ]
          },
          "metadata": {},
          "execution_count": 10
        }
      ]
    },
    {
      "cell_type": "code",
      "source": [
        "ch.dtypes"
      ],
      "metadata": {
        "colab": {
          "base_uri": "https://localhost:8080/"
        },
        "id": "4reF-mCUWnLR",
        "outputId": "3a757dd2-a479-4bf3-e424-8f7e19a97d51"
      },
      "execution_count": 11,
      "outputs": [
        {
          "output_type": "execute_result",
          "data": {
            "text/plain": [
              "Unnamed: 0            int64\n",
              "customerID           object\n",
              "tenure               object\n",
              "Contract             object\n",
              "PaperlessBilling     object\n",
              "PaymentMethod        object\n",
              "MonthlyCharges      float64\n",
              "TotalCharges        float64\n",
              "gender               object\n",
              "SeniorCitizen       float64\n",
              "Partner              object\n",
              "Dependents           object\n",
              "PhoneService         object\n",
              "MultipleLines        object\n",
              "InternetService      object\n",
              "OnlineSecurity       object\n",
              "OnlineBackup         object\n",
              "DeviceProtection     object\n",
              "TechSupport          object\n",
              "StreamingTV          object\n",
              "StreamingMovies      object\n",
              "Churn                object\n",
              "dtype: object"
            ]
          },
          "metadata": {},
          "execution_count": 11
        }
      ]
    },
    {
      "cell_type": "code",
      "source": [
        "ch.columns"
      ],
      "metadata": {
        "colab": {
          "base_uri": "https://localhost:8080/"
        },
        "id": "43vtVnfuW-d7",
        "outputId": "28b96b1b-8033-4898-c2f8-dcddaaa60c37"
      },
      "execution_count": 12,
      "outputs": [
        {
          "output_type": "execute_result",
          "data": {
            "text/plain": [
              "Index(['Unnamed: 0', 'customerID', 'tenure', 'Contract', 'PaperlessBilling',\n",
              "       'PaymentMethod', 'MonthlyCharges', 'TotalCharges', 'gender',\n",
              "       'SeniorCitizen', 'Partner', 'Dependents', 'PhoneService',\n",
              "       'MultipleLines', 'InternetService', 'OnlineSecurity', 'OnlineBackup',\n",
              "       'DeviceProtection', 'TechSupport', 'StreamingTV', 'StreamingMovies',\n",
              "       'Churn'],\n",
              "      dtype='object')"
            ]
          },
          "metadata": {},
          "execution_count": 12
        }
      ]
    },
    {
      "cell_type": "code",
      "source": [
        "list=['MonthlyCharges','TotalCharges','SeniorCitizen']\n",
        "list\n",
        "ch[list]=ch[list].fillna(ch[list].median())"
      ],
      "metadata": {
        "id": "cDq_CIweXGUy"
      },
      "execution_count": 13,
      "outputs": []
    },
    {
      "cell_type": "code",
      "source": [
        "(ch.isna().sum()/len(ch)*100).round(2).sort_values(ascending=False)"
      ],
      "metadata": {
        "colab": {
          "base_uri": "https://localhost:8080/"
        },
        "id": "GqnpfC6yXS4i",
        "outputId": "49e4e777-b6af-4d07-ffe1-786a6650c3b7"
      },
      "execution_count": 14,
      "outputs": [
        {
          "output_type": "execute_result",
          "data": {
            "text/plain": [
              "Unnamed: 0          0.0\n",
              "customerID          0.0\n",
              "StreamingMovies     0.0\n",
              "StreamingTV         0.0\n",
              "TechSupport         0.0\n",
              "DeviceProtection    0.0\n",
              "OnlineBackup        0.0\n",
              "OnlineSecurity      0.0\n",
              "InternetService     0.0\n",
              "MultipleLines       0.0\n",
              "PhoneService        0.0\n",
              "Dependents          0.0\n",
              "Partner             0.0\n",
              "SeniorCitizen       0.0\n",
              "gender              0.0\n",
              "TotalCharges        0.0\n",
              "MonthlyCharges      0.0\n",
              "PaymentMethod       0.0\n",
              "PaperlessBilling    0.0\n",
              "Contract            0.0\n",
              "tenure              0.0\n",
              "Churn               0.0\n",
              "dtype: float64"
            ]
          },
          "metadata": {},
          "execution_count": 14
        }
      ]
    },
    {
      "cell_type": "code",
      "source": [
        "ch.shape"
      ],
      "metadata": {
        "colab": {
          "base_uri": "https://localhost:8080/"
        },
        "id": "ZLoQ4uEpX6DA",
        "outputId": "cecdad6e-38a4-45ea-ff24-9309aafd0567"
      },
      "execution_count": 15,
      "outputs": [
        {
          "output_type": "execute_result",
          "data": {
            "text/plain": [
              "(257, 22)"
            ]
          },
          "metadata": {},
          "execution_count": 15
        }
      ]
    },
    {
      "cell_type": "code",
      "source": [
        "ch_objects=ch.select_dtypes(include='object')\n",
        "ch_objects.columns"
      ],
      "metadata": {
        "colab": {
          "base_uri": "https://localhost:8080/"
        },
        "id": "auC2kiaUYP-0",
        "outputId": "e485a6c5-e631-478f-d8d5-c0c32fd6f11e"
      },
      "execution_count": 16,
      "outputs": [
        {
          "output_type": "execute_result",
          "data": {
            "text/plain": [
              "Index(['customerID', 'tenure', 'Contract', 'PaperlessBilling', 'PaymentMethod',\n",
              "       'gender', 'Partner', 'Dependents', 'PhoneService', 'MultipleLines',\n",
              "       'InternetService', 'OnlineSecurity', 'OnlineBackup', 'DeviceProtection',\n",
              "       'TechSupport', 'StreamingTV', 'StreamingMovies', 'Churn'],\n",
              "      dtype='object')"
            ]
          },
          "metadata": {},
          "execution_count": 16
        }
      ]
    },
    {
      "cell_type": "code",
      "source": [
        "ch=ch.drop('customerID',1)"
      ],
      "metadata": {
        "id": "UIKnw87Q1l3i",
        "colab": {
          "base_uri": "https://localhost:8080/"
        },
        "outputId": "08914e4d-0b22-4dbf-b26a-82c26495fdd8"
      },
      "execution_count": 17,
      "outputs": [
        {
          "output_type": "stream",
          "name": "stderr",
          "text": [
            "/usr/local/lib/python3.7/dist-packages/ipykernel_launcher.py:1: FutureWarning: In a future version of pandas all arguments of DataFrame.drop except for the argument 'labels' will be keyword-only\n",
            "  \"\"\"Entry point for launching an IPython kernel.\n"
          ]
        }
      ]
    },
    {
      "cell_type": "code",
      "source": [
        "objj=['tenure', 'Contract', 'PaperlessBilling', 'PaymentMethod',\n",
        "       'gender', 'Partner', 'Dependents', 'PhoneService', 'MultipleLines',\n",
        "       'InternetService', 'OnlineSecurity', 'OnlineBackup', 'DeviceProtection',\n",
        "       'TechSupport', 'StreamingTV', 'StreamingMovies', 'Churn']"
      ],
      "metadata": {
        "id": "AVfxVFbn1-Xn"
      },
      "execution_count": 18,
      "outputs": []
    },
    {
      "cell_type": "code",
      "source": [
        "from sklearn.preprocessing import LabelEncoder\n",
        "import sklearn\n",
        "le=LabelEncoder()\n"
      ],
      "metadata": {
        "id": "ag3TT4VS2PyR"
      },
      "execution_count": 33,
      "outputs": []
    },
    {
      "cell_type": "code",
      "source": [
        "for ob in objj:\n",
        "  ch[ob]=le.fit_transform(ch[ob])\n",
        "ch.dtypes"
      ],
      "metadata": {
        "colab": {
          "base_uri": "https://localhost:8080/"
        },
        "id": "Zv1RQ5xO3R0S",
        "outputId": "528322f0-6657-4bf2-fbd9-991265bccad8"
      },
      "execution_count": 34,
      "outputs": [
        {
          "output_type": "execute_result",
          "data": {
            "text/plain": [
              "Unnamed: 0            int64\n",
              "tenure                int64\n",
              "Contract              int64\n",
              "PaperlessBilling      int64\n",
              "PaymentMethod         int64\n",
              "MonthlyCharges      float64\n",
              "TotalCharges        float64\n",
              "gender                int64\n",
              "SeniorCitizen       float64\n",
              "Partner               int64\n",
              "Dependents            int64\n",
              "PhoneService          int64\n",
              "MultipleLines         int64\n",
              "InternetService       int64\n",
              "OnlineSecurity        int64\n",
              "OnlineBackup          int64\n",
              "DeviceProtection      int64\n",
              "TechSupport           int64\n",
              "StreamingTV           int64\n",
              "StreamingMovies       int64\n",
              "Churn                 int64\n",
              "dtype: object"
            ]
          },
          "metadata": {},
          "execution_count": 34
        }
      ]
    },
    {
      "cell_type": "code",
      "source": [
        "!pip install imblearn\n",
        "!pip install yellowbrick"
      ],
      "metadata": {
        "colab": {
          "base_uri": "https://localhost:8080/"
        },
        "id": "q4yMG3_xaV8k",
        "outputId": "b25b9c05-fdb9-482c-bf9e-c050346a695d"
      },
      "execution_count": 22,
      "outputs": [
        {
          "output_type": "stream",
          "name": "stdout",
          "text": [
            "Looking in indexes: https://pypi.org/simple, https://us-python.pkg.dev/colab-wheels/public/simple/\n",
            "Requirement already satisfied: imblearn in /usr/local/lib/python3.7/dist-packages (0.0)\n",
            "Requirement already satisfied: imbalanced-learn in /usr/local/lib/python3.7/dist-packages (from imblearn) (0.8.1)\n",
            "Requirement already satisfied: scipy>=0.19.1 in /usr/local/lib/python3.7/dist-packages (from imbalanced-learn->imblearn) (1.7.3)\n",
            "Requirement already satisfied: scikit-learn>=0.24 in /usr/local/lib/python3.7/dist-packages (from imbalanced-learn->imblearn) (1.0.2)\n",
            "Requirement already satisfied: numpy>=1.13.3 in /usr/local/lib/python3.7/dist-packages (from imbalanced-learn->imblearn) (1.21.6)\n",
            "Requirement already satisfied: joblib>=0.11 in /usr/local/lib/python3.7/dist-packages (from imbalanced-learn->imblearn) (1.2.0)\n",
            "Requirement already satisfied: threadpoolctl>=2.0.0 in /usr/local/lib/python3.7/dist-packages (from scikit-learn>=0.24->imbalanced-learn->imblearn) (3.1.0)\n",
            "Looking in indexes: https://pypi.org/simple, https://us-python.pkg.dev/colab-wheels/public/simple/\n",
            "Requirement already satisfied: yellowbrick in /usr/local/lib/python3.7/dist-packages (1.5)\n",
            "Requirement already satisfied: scikit-learn>=1.0.0 in /usr/local/lib/python3.7/dist-packages (from yellowbrick) (1.0.2)\n",
            "Requirement already satisfied: cycler>=0.10.0 in /usr/local/lib/python3.7/dist-packages (from yellowbrick) (0.11.0)\n",
            "Requirement already satisfied: scipy>=1.0.0 in /usr/local/lib/python3.7/dist-packages (from yellowbrick) (1.7.3)\n",
            "Requirement already satisfied: matplotlib!=3.0.0,>=2.0.2 in /usr/local/lib/python3.7/dist-packages (from yellowbrick) (3.2.2)\n",
            "Requirement already satisfied: numpy>=1.16.0 in /usr/local/lib/python3.7/dist-packages (from yellowbrick) (1.21.6)\n",
            "Requirement already satisfied: pyparsing!=2.0.4,!=2.1.2,!=2.1.6,>=2.0.1 in /usr/local/lib/python3.7/dist-packages (from matplotlib!=3.0.0,>=2.0.2->yellowbrick) (3.0.9)\n",
            "Requirement already satisfied: python-dateutil>=2.1 in /usr/local/lib/python3.7/dist-packages (from matplotlib!=3.0.0,>=2.0.2->yellowbrick) (2.8.2)\n",
            "Requirement already satisfied: kiwisolver>=1.0.1 in /usr/local/lib/python3.7/dist-packages (from matplotlib!=3.0.0,>=2.0.2->yellowbrick) (1.4.4)\n",
            "Requirement already satisfied: typing-extensions in /usr/local/lib/python3.7/dist-packages (from kiwisolver>=1.0.1->matplotlib!=3.0.0,>=2.0.2->yellowbrick) (4.1.1)\n",
            "Requirement already satisfied: six>=1.5 in /usr/local/lib/python3.7/dist-packages (from python-dateutil>=2.1->matplotlib!=3.0.0,>=2.0.2->yellowbrick) (1.15.0)\n",
            "Requirement already satisfied: joblib>=0.11 in /usr/local/lib/python3.7/dist-packages (from scikit-learn>=1.0.0->yellowbrick) (1.2.0)\n",
            "Requirement already satisfied: threadpoolctl>=2.0.0 in /usr/local/lib/python3.7/dist-packages (from scikit-learn>=1.0.0->yellowbrick) (3.1.0)\n"
          ]
        }
      ]
    },
    {
      "cell_type": "code",
      "source": [
        "import warnings\n",
        "warnings.filterwarnings('ignore')\n",
        "from sklearn.model_selection import train_test_split\n",
        "from sklearn.metrics import accuracy_score,recall_score,precision_score,f1_score,confusion_matrix \n",
        "from sklearn.tree import DecisionTreeClassifier\n",
        "from sklearn.ensemble import RandomForestClassifier, GradientBoostingClassifier, AdaBoostClassifier\n",
        "from imblearn.over_sampling import SMOTE\n",
        "import imblearn\n",
        "from yellowbrick.classifier import ROCAUC\n",
        "\n",
        "import pickle\n",
        "from yellowbrick.model_selection import cv_scores,FeatureImportances"
      ],
      "metadata": {
        "id": "vKFIqwBGZnSP"
      },
      "execution_count": 21,
      "outputs": []
    },
    {
      "cell_type": "code",
      "source": [
        "ch.Churn.value_counts(normalize=True).plot.bar(color=['g','r'])\n",
        "ch.Churn.value_counts(normalize=True)*100"
      ],
      "metadata": {
        "colab": {
          "base_uri": "https://localhost:8080/",
          "height": 395
        },
        "id": "6TA1duZCYw-F",
        "outputId": "3ebe9eb1-4af5-4c99-f052-606e1cdd5b50"
      },
      "execution_count": 35,
      "outputs": [
        {
          "output_type": "execute_result",
          "data": {
            "text/plain": [
              "0    69.649805\n",
              "1    30.350195\n",
              "Name: Churn, dtype: float64"
            ]
          },
          "metadata": {},
          "execution_count": 35
        },
        {
          "output_type": "display_data",
          "data": {
            "text/plain": [
              "<Figure size 576x396 with 1 Axes>"
            ],
            "image/png": "[encoded data removed]"
          },
          "metadata": {}
        }
      ]
    },
    {
      "cell_type": "code",
      "source": [
        "a=ch.drop('Churn',1)\n",
        "b=ch['Churn']"
      ],
      "metadata": {
        "id": "1jVkBp9MZlEw"
      },
      "execution_count": 37,
      "outputs": []
    },
    {
      "cell_type": "code",
      "source": [
        "ch.dtypes"
      ],
      "metadata": {
        "colab": {
          "base_uri": "https://localhost:8080/"
        },
        "id": "JQLmvIPh03fe",
        "outputId": "da8fbf04-05c4-479d-b8d7-434ccfaee100"
      },
      "execution_count": 36,
      "outputs": [
        {
          "output_type": "execute_result",
          "data": {
            "text/plain": [
              "Unnamed: 0            int64\n",
              "tenure                int64\n",
              "Contract              int64\n",
              "PaperlessBilling      int64\n",
              "PaymentMethod         int64\n",
              "MonthlyCharges      float64\n",
              "TotalCharges        float64\n",
              "gender                int64\n",
              "SeniorCitizen       float64\n",
              "Partner               int64\n",
              "Dependents            int64\n",
              "PhoneService          int64\n",
              "MultipleLines         int64\n",
              "InternetService       int64\n",
              "OnlineSecurity        int64\n",
              "OnlineBackup          int64\n",
              "DeviceProtection      int64\n",
              "TechSupport           int64\n",
              "StreamingTV           int64\n",
              "StreamingMovies       int64\n",
              "Churn                 int64\n",
              "dtype: object"
            ]
          },
          "metadata": {},
          "execution_count": 36
        }
      ]
    },
    {
      "cell_type": "code",
      "source": [
        "sm=SMOTE()\n",
        "x,y=sm.fit_resample(a,b)"
      ],
      "metadata": {
        "id": "2wsrxMk6bNdl"
      },
      "execution_count": 38,
      "outputs": []
    },
    {
      "cell_type": "code",
      "source": [
        "x_train,x_test,y_train,y_test=train_test_split(x,y,test_size=0.20,random_state=0)"
      ],
      "metadata": {
        "id": "xFMCjWBPeN09"
      },
      "execution_count": 39,
      "outputs": []
    },
    {
      "cell_type": "code",
      "source": [
        "dt=DecisionTreeClassifier()"
      ],
      "metadata": {
        "id": "eXKvXM8jb1pl"
      },
      "execution_count": 40,
      "outputs": []
    },
    {
      "cell_type": "code",
      "source": [
        "dt=DecisionTreeClassifier()\n",
        "dt.fit(x_train,y_train)"
      ],
      "metadata": {
        "colab": {
          "base_uri": "https://localhost:8080/"
        },
        "id": "iKxTQrimes1-",
        "outputId": "e004a81b-22fb-4df9-8223-cd58d8de5be3"
      },
      "execution_count": 41,
      "outputs": [
        {
          "output_type": "execute_result",
          "data": {
            "text/plain": [
              "DecisionTreeClassifier()"
            ]
          },
          "metadata": {},
          "execution_count": 41
        }
      ]
    },
    {
      "cell_type": "code",
      "source": [
        "dt_pred=dt.predict(x_test)"
      ],
      "metadata": {
        "id": "NZPZIKGAkbjz"
      },
      "execution_count": 42,
      "outputs": []
    },
    {
      "cell_type": "code",
      "source": [
        "print(accuracy_score(y_test,dt_pred))\n",
        "print(precision_score(y_test,dt_pred))\n",
        "print(recall_score(y_test,dt_pred))\n",
        "print(f1_score(y_test,dt_pred))\n",
        "print(confusion_matrix(y_test,dt_pred))"
      ],
      "metadata": {
        "colab": {
          "base_uri": "https://localhost:8080/"
        },
        "id": "9XijqeOpeU_q",
        "outputId": "be315693-1cc4-4950-b72f-327e86887d44"
      },
      "execution_count": 43,
      "outputs": [
        {
          "output_type": "stream",
          "name": "stdout",
          "text": [
            "0.6805555555555556\n",
            "0.6451612903225806\n",
            "0.625\n",
            "0.634920634920635\n",
            "[[29 11]\n",
            " [12 20]]\n"
          ]
        }
      ]
    },
    {
      "cell_type": "code",
      "source": [
        "dt=DecisionTreeClassifier()\n",
        "roc_dt=ROCAUC(dt)\n",
        "roc_dt.fit(x_train,y_train)\n",
        "roc_dt.score(x_test,y_test)\n",
        "roc_dt.show()"
      ],
      "metadata": {
        "id": "v_QlkOzPecP-",
        "colab": {
          "base_uri": "https://localhost:8080/",
          "height": 393
        },
        "outputId": "7c8e0227-e924-431f-ea3f-d7e240f517ba"
      },
      "execution_count": 44,
      "outputs": [
        {
          "output_type": "display_data",
          "data": {
            "text/plain": [
              "<Figure size 576x396 with 1 Axes>"
            ],
            "image/png": "[encoded data removed]"
          },
          "metadata": {}
        },
        {
          "output_type": "execute_result",
          "data": {
            "text/plain": [
              "<matplotlib.axes._subplots.AxesSubplot at 0x7f0c89651850>"
            ]
          },
          "metadata": {},
          "execution_count": 44
        }
      ]
    },
    {
      "cell_type": "code",
      "source": [
        "gb= GradientBoostingClassifier()\n",
        "gb.fit(x_train,y_train)"
      ],
      "metadata": {
        "colab": {
          "base_uri": "https://localhost:8080/"
        },
        "id": "4pHvPRiND6HN",
        "outputId": "b2b1771b-4db6-4514-9013-efa2720f2006"
      },
      "execution_count": 45,
      "outputs": [
        {
          "output_type": "execute_result",
          "data": {
            "text/plain": [
              "GradientBoostingClassifier()"
            ]
          },
          "metadata": {},
          "execution_count": 45
        }
      ]
    },
    {
      "cell_type": "code",
      "source": [
        "gb_pred=gb.predict(x_test)"
      ],
      "metadata": {
        "id": "2JP2zvcJENzS"
      },
      "execution_count": 46,
      "outputs": []
    },
    {
      "cell_type": "code",
      "source": [
        "print(accuracy_score(y_test,gb_pred))\n",
        "print(precision_score(y_test,gb_pred))\n",
        "print(recall_score(y_test,gb_pred))\n",
        "print(f1_score(y_test,gb_pred))\n",
        "print(confusion_matrix(y_test,gb_pred))"
      ],
      "metadata": {
        "colab": {
          "base_uri": "https://localhost:8080/"
        },
        "id": "uIjR-UVEEOm2",
        "outputId": "6df050f4-1a16-4902-8ce5-d2e13659aa9e"
      },
      "execution_count": 47,
      "outputs": [
        {
          "output_type": "stream",
          "name": "stdout",
          "text": [
            "0.7916666666666666\n",
            "0.7741935483870968\n",
            "0.75\n",
            "0.7619047619047619\n",
            "[[33  7]\n",
            " [ 8 24]]\n"
          ]
        }
      ]
    },
    {
      "cell_type": "code",
      "source": [
        "gb= GradientBoostingClassifier()\n",
        "roc_gb=ROCAUC(gb)\n",
        "roc_gb.fit(x_train,y_train)\n",
        "roc_gb.score(x_test,y_test)\n",
        "roc_gb.show()"
      ],
      "metadata": {
        "colab": {
          "base_uri": "https://localhost:8080/",
          "height": 393
        },
        "id": "Ccg1lV8KETWg",
        "outputId": "bcf64b3c-64c0-4650-c46d-edb8e3488a41"
      },
      "execution_count": 48,
      "outputs": [
        {
          "output_type": "display_data",
          "data": {
            "text/plain": [
              "<Figure size 576x396 with 1 Axes>"
            ],
            "image/png": "[encoded data removed]"
          },
          "metadata": {}
        },
        {
          "output_type": "execute_result",
          "data": {
            "text/plain": [
              "<matplotlib.axes._subplots.AxesSubplot at 0x7f0c89501350>"
            ]
          },
          "metadata": {},
          "execution_count": 48
        }
      ]
    },
    {
      "cell_type": "code",
      "source": [
        "ab=AdaBoostClassifier()\n",
        "ab.fit(x_train,y_train)"
      ],
      "metadata": {
        "colab": {
          "base_uri": "https://localhost:8080/"
        },
        "id": "yMwL1glEEXzs",
        "outputId": "4b817f2a-52bb-483a-8492-ddf388069f71"
      },
      "execution_count": 49,
      "outputs": [
        {
          "output_type": "execute_result",
          "data": {
            "text/plain": [
              "AdaBoostClassifier()"
            ]
          },
          "metadata": {},
          "execution_count": 49
        }
      ]
    },
    {
      "cell_type": "code",
      "source": [
        "ab_pred=ab.predict(x_test)"
      ],
      "metadata": {
        "id": "xUxcbIOMEcFW"
      },
      "execution_count": 50,
      "outputs": []
    },
    {
      "cell_type": "code",
      "source": [
        "print(accuracy_score(y_test,ab_pred))\n",
        "print(precision_score(y_test,ab_pred))\n",
        "print(recall_score(y_test,ab_pred))\n",
        "print(f1_score(y_test,ab_pred))\n",
        "print(confusion_matrix(y_test,ab_pred))"
      ],
      "metadata": {
        "colab": {
          "base_uri": "https://localhost:8080/"
        },
        "id": "-yxpZYC5Hx1W",
        "outputId": "5d150195-89d1-4ccf-e5a4-4d215286f0c1"
      },
      "execution_count": 51,
      "outputs": [
        {
          "output_type": "stream",
          "name": "stdout",
          "text": [
            "0.7916666666666666\n",
            "0.7575757575757576\n",
            "0.78125\n",
            "0.7692307692307692\n",
            "[[32  8]\n",
            " [ 7 25]]\n"
          ]
        }
      ]
    },
    {
      "cell_type": "code",
      "source": [
        "ab=AdaBoostClassifier()\n",
        "roc_gb=ROCAUC(ab)\n",
        "roc_gb.fit(x_train,y_train)\n",
        "roc_gb.score(x_test,y_test)\n",
        "roc_gb.show()"
      ],
      "metadata": {
        "colab": {
          "base_uri": "https://localhost:8080/",
          "height": 393
        },
        "id": "Ct6VLPuAH10Q",
        "outputId": "7d0a5001-d0db-47f3-d5be-9efb6911d466"
      },
      "execution_count": 52,
      "outputs": [
        {
          "output_type": "display_data",
          "data": {
            "text/plain": [
              "<Figure size 576x396 with 1 Axes>"
            ],
            "image/png": "[encoded data removed]"
          },
          "metadata": {}
        },
        {
          "output_type": "execute_result",
          "data": {
            "text/plain": [
              "<matplotlib.axes._subplots.AxesSubplot at 0x7f0c89443750>"
            ]
          },
          "metadata": {},
          "execution_count": 52
        }
      ]
    },
    {
      "cell_type": "code",
      "source": [
        "rf=RandomForestClassifier(random_state=0)\n",
        "rf.fit(x_train,y_train)"
      ],
      "metadata": {
        "colab": {
          "base_uri": "https://localhost:8080/"
        },
        "id": "AoSzkg4gH6Gq",
        "outputId": "315c497c-84aa-447c-d5d2-47ff435b9c41"
      },
      "execution_count": 53,
      "outputs": [
        {
          "output_type": "execute_result",
          "data": {
            "text/plain": [
              "RandomForestClassifier(random_state=0)"
            ]
          },
          "metadata": {},
          "execution_count": 53
        }
      ]
    },
    {
      "cell_type": "code",
      "source": [
        "rf_pred=rf.predict(x_test)"
      ],
      "metadata": {
        "id": "pJ7gjaYvH-p8"
      },
      "execution_count": 54,
      "outputs": []
    },
    {
      "cell_type": "code",
      "source": [
        "print(accuracy_score(y_test,rf_pred))\n",
        "print(precision_score(y_test,rf_pred))\n",
        "print(recall_score(y_test,rf_pred))\n",
        "print(f1_score(y_test,rf_pred))\n",
        "print(confusion_matrix(y_test,rf_pred))"
      ],
      "metadata": {
        "colab": {
          "base_uri": "https://localhost:8080/"
        },
        "id": "8t5QpsP8IEoI",
        "outputId": "b3d5aaaa-a0b0-42ae-9d76-903574030a4c"
      },
      "execution_count": 55,
      "outputs": [
        {
          "output_type": "stream",
          "name": "stdout",
          "text": [
            "0.8888888888888888\n",
            "0.8529411764705882\n",
            "0.90625\n",
            "0.8787878787878787\n",
            "[[35  5]\n",
            " [ 3 29]]\n"
          ]
        }
      ]
    },
    {
      "cell_type": "code",
      "source": [
        "rf=RandomForestClassifier(random_state=0)\n",
        "roc_gb=ROCAUC(rf)\n",
        "roc_gb.fit(x_train,y_train)\n",
        "roc_gb.score(x_test,y_test)\n",
        "roc_gb.show()"
      ],
      "metadata": {
        "colab": {
          "base_uri": "https://localhost:8080/",
          "height": 393
        },
        "id": "SRggpb2WILOT",
        "outputId": "83ae6eb7-dca4-4263-fc21-6acfe5f97d16"
      },
      "execution_count": 56,
      "outputs": [
        {
          "output_type": "display_data",
          "data": {
            "text/plain": [
              "<Figure size 576x396 with 1 Axes>"
            ],
            "image/png": "[encoded data removed]"
          },
          "metadata": {}
        },
        {
          "output_type": "execute_result",
          "data": {
            "text/plain": [
              "<matplotlib.axes._subplots.AxesSubplot at 0x7f0c89407a50>"
            ]
          },
          "metadata": {},
          "execution_count": 56
        }
      ]
    },
    {
      "cell_type": "code",
      "source": [
        "rf=RandomForestClassifier()\n",
        "imp=FeatureImportances(rf)\n",
        "imp.fit(x_train,y_train)\n",
        "imp.show()"
      ],
      "metadata": {
        "colab": {
          "base_uri": "https://localhost:8080/",
          "height": 418
        },
        "id": "uyExRUnoIQsX",
        "outputId": "d8d4eb48-8e16-4b45-b398-0585c7c7a480"
      },
      "execution_count": 57,
      "outputs": [
        {
          "output_type": "display_data",
          "data": {
            "text/plain": [
              "<Figure size 576x396 with 1 Axes>"
            ],
            "image/png": "[encoded data removed]"
          },
          "metadata": {}
        },
        {
          "output_type": "execute_result",
          "data": {
            "text/plain": [
              "<matplotlib.axes._subplots.AxesSubplot at 0x7f0c889431d0>"
            ]
          },
          "metadata": {},
          "execution_count": 57
        }
      ]
    },
    {
      "cell_type": "code",
      "source": [],
      "metadata": {
        "id": "M1JOBaBrIXF9"
      },
      "execution_count": null,
      "outputs": []
    }
  ]
}